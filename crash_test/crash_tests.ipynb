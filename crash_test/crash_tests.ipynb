{
 "cells": [
  {
   "cell_type": "code",
   "execution_count": 81,
   "metadata": {},
   "outputs": [],
   "source": [
    "from transformers import AutoImageProcessor, ResNetForImageClassification\n",
    "import torch\n",
    "import os\n",
    "from PIL import Image"
   ]
  },
  {
   "cell_type": "code",
   "execution_count": 82,
   "metadata": {},
   "outputs": [],
   "source": [
    "import re\n",
    "\n",
    "def extract_names_from_file_name(file_name):\n",
    "    regex = r'([^_]+)_\\d+\\w\\+([^_]+)_\\d+\\w'\n",
    "    matches = re.findall(regex, file_name)\n",
    "\n",
    "    if matches and len(matches) == 1:\n",
    "        answer1, answer2 = matches[0]\n",
    "        return [answer1, answer2]\n",
    "\n",
    "    return []\n",
    "\n",
    "def get_file_list(directory):\n",
    "    answers_list = []\n",
    "    file_list = []\n",
    "    for file in os.listdir(directory):\n",
    "        answers_list.append(extract_names_from_file_name(file))\n",
    "        # replace is for windows\n",
    "        file_list.append(os.path.join(directory, file).replace(\"\\\\\",\"/\"))\n",
    "    return file_list, answers_list\n",
    "        \n",
    "    "
   ]
  },
  {
   "cell_type": "code",
   "execution_count": 83,
   "metadata": {},
   "outputs": [
    {
     "name": "stdout",
     "output_type": "stream",
     "text": [
      "['../res/generated/airplane_01b+banana_01b.jpg', '../res/generated/airplane_01b+banana_02s.jpg', '../res/generated/airplane_01b+banana_03s.jpg', '../res/generated/airplane_01b+banana_04s.jpg', '../res/generated/airplane_01b+banana_05s.jpg', '../res/generated/airplane_01b+banana_06s.jpg', '../res/generated/airplane_01b+banana_07s.jpg', '../res/generated/airplane_01b+banana_08s.jpg', '../res/generated/airplane_01b+banana_09s.jpg', '../res/generated/airplane_01b+banana_10s.jpg'] [['airplane', 'banana'], ['airplane', 'banana'], ['airplane', 'banana'], ['airplane', 'banana'], ['airplane', 'banana'], ['airplane', 'banana'], ['airplane', 'banana'], ['airplane', 'banana'], ['airplane', 'banana'], ['airplane', 'banana']]\n"
     ]
    }
   ],
   "source": [
    "file_list, answers_list = get_file_list('../res/generated')\n",
    "# print(file_list[:10], answers_list[:10])"
   ]
  },
  {
   "cell_type": "code",
   "execution_count": 85,
   "metadata": {
    "scrolled": true
   },
   "outputs": [],
   "source": [
    "N = 10 # number of images to open\n",
    "\n",
    "image_list = []\n",
    "for file_name in file_list[:N]:\n",
    "    # Open the image file\n",
    "    try:\n",
    "        image = Image.open(file_name)\n",
    "        image_list.append(image)\n",
    "    except IOError:\n",
    "        print(f\"Failed to open {file_name}\")"
   ]
  },
  {
   "cell_type": "code",
   "execution_count": 101,
   "metadata": {},
   "outputs": [],
   "source": [
    "class ResNet:\n",
    "    def __init__(self):\n",
    "        self.processor = AutoImageProcessor.from_pretrained(\"microsoft/resnet-50\")\n",
    "        self.model = ResNetForImageClassification.from_pretrained(\"microsoft/resnet-50\")\n",
    "\n",
    "    def test(self, image_list, answers_list):\n",
    "        print(\"========================= ResNet50 Test ==============================\")\n",
    "        for i, image in enumerate(image_list):\n",
    "            inputs = self.processor(image, return_tensors=\"pt\")\n",
    "            \n",
    "            with torch.no_grad():\n",
    "                logits = self.model(**inputs).logits\n",
    "            # model predicts one of the 1000 ImageNet classes\n",
    "            # predicted_label = logits.argmax(-1).item()\n",
    "            predicted_label = torch.argsort(logits)\n",
    "            classifications = []\n",
    "            found_1 = False\n",
    "            found_2 = False\n",
    "            result = \"Found: \"\n",
    "\n",
    "            # tries the 5 most probable inferences\n",
    "            for j in range(0,5):\n",
    "                labels = self.model.config.id2label[predicted_label[0][j].item()].split(\", \")\n",
    "                for label in labels:\n",
    "                    classifications.append(label)\n",
    "                if answers_list[i][0] in labels:\n",
    "                    found_1 = True \n",
    "                    found += f\"{answer_list[i][0]} as n.{j+1} with highest probability; \"\n",
    "                if answers_list[i][1] in labels:\n",
    "                    found_2 = True\n",
    "                    found += f\"{answer_list[i][1]} as n.{j+1} with highest probability; \"\n",
    "            if not found_1 and not found_2:\n",
    "                result += \" None.\"\n",
    "            print(result)           \n",
    "        print(\"=====================================================================\")"
   ]
  },
  {
   "cell_type": "code",
   "execution_count": null,
   "metadata": {},
   "outputs": [],
   "source": []
  },
  {
   "cell_type": "code",
   "execution_count": 102,
   "metadata": {},
   "outputs": [
    {
     "name": "stderr",
     "output_type": "stream",
     "text": [
      "Could not find image processor class in the image processor config or the model config. Loading based on pattern matching with the model's feature extractor configuration.\n"
     ]
    },
    {
     "name": "stdout",
     "output_type": "stream",
     "text": [
      "========================= ResNet50 Test ==============================\n",
      "Found:  None.\n",
      "Found:  None.\n",
      "Found:  None.\n",
      "Found:  None.\n",
      "Found:  None.\n",
      "Found:  None.\n",
      "Found:  None.\n",
      "Found:  None.\n",
      "Found:  None.\n",
      "Found:  None.\n",
      "=====================================================================\n"
     ]
    }
   ],
   "source": [
    "resnet = ResNet()\n",
    "resnet.test(image_list, answers_list)"
   ]
  },
  {
   "cell_type": "code",
   "execution_count": null,
   "metadata": {},
   "outputs": [],
   "source": []
  }
 ],
 "metadata": {
  "kernelspec": {
   "display_name": "Python 3 (ipykernel)",
   "language": "python",
   "name": "python3"
  },
  "language_info": {
   "codemirror_mode": {
    "name": "ipython",
    "version": 3
   },
   "file_extension": ".py",
   "mimetype": "text/x-python",
   "name": "python",
   "nbconvert_exporter": "python",
   "pygments_lexer": "ipython3",
   "version": "3.9.13"
  }
 },
 "nbformat": 4,
 "nbformat_minor": 4
}
