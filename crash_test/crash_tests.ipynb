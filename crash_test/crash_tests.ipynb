{
 "cells": [
  {
   "cell_type": "code",
   "execution_count": 1,
   "metadata": {},
   "outputs": [],
   "source": [
    "from transformers import AutoImageProcessor, ResNetForImageClassification, DetrImageProcessor, DetrForObjectDetection\n",
    "import torch\n",
    "import os\n",
    "from PIL import Image"
   ]
  },
  {
   "cell_type": "code",
   "execution_count": 2,
   "metadata": {},
   "outputs": [],
   "source": [
    "import re\n",
    "\n",
    "def extract_names_from_file_name(file_name):\n",
    "    regex = r'([^_]+)_\\d+\\w\\+([^_]+)_\\d+\\w'\n",
    "    matches = re.findall(regex, file_name)\n",
    "\n",
    "    if matches and len(matches) == 1:\n",
    "        answer1, answer2 = matches[0]\n",
    "        return [answer1, answer2]\n",
    "\n",
    "    return []\n",
    "\n",
    "def get_file_list(directory):\n",
    "    answers_list = []\n",
    "    file_list = []\n",
    "    for file in os.listdir(directory):\n",
    "        answers_list.append(extract_names_from_file_name(file))\n",
    "        # replace is for windows\n",
    "        file_list.append(os.path.join(directory, file).replace(\"\\\\\",\"/\"))\n",
    "    return file_list, answers_list\n",
    "        \n",
    "    "
   ]
  },
  {
   "cell_type": "code",
   "execution_count": 21,
   "metadata": {},
   "outputs": [],
   "source": [
    "import random\n",
    "\n",
    "file_list, answers_list = get_file_list('../res/generated')\n",
    "\n",
    "# randomize list\n",
    "zipped_list = list(zip(file_list, answers_list))\n",
    "random.shuffle(zipped_list)\n",
    "file_list, answers_list = zip(*zipped_list)\n",
    "\n",
    "# print(file_list[:10], answers_list[:10])"
   ]
  },
  {
   "cell_type": "code",
   "execution_count": 22,
   "metadata": {
    "scrolled": true
   },
   "outputs": [],
   "source": [
    "N = 10 # number of images to open\n",
    "\n",
    "image_list = []\n",
    "for file_name in file_list[:N]:\n",
    "    # Open the image file\n",
    "    try:\n",
    "        image = Image.open(file_name)\n",
    "        image_list.append(image)\n",
    "    except IOError:\n",
    "        print(f\"Failed to open {file_name}\")"
   ]
  },
  {
   "cell_type": "code",
   "execution_count": 68,
   "metadata": {},
   "outputs": [],
   "source": [
    "class ResNet:\n",
    "    def __init__(self):\n",
    "        self.processor = AutoImageProcessor.from_pretrained(\"microsoft/resnet-50\")\n",
    "        self.model = ResNetForImageClassification.from_pretrained(\"microsoft/resnet-50\")\n",
    "\n",
    "    def test(self, image_list, answers_list):\n",
    "        print(\"=============================================== ResNet50 Tests =================================================================\")\n",
    "        for i, image in enumerate(image_list):\n",
    "            inputs = self.processor(image, return_tensors=\"pt\")\n",
    "            \n",
    "            with torch.no_grad():\n",
    "                logits = self.model(**inputs).logits\n",
    "            # model predicts one of the 1000 ImageNet classes\n",
    "            # predicted_label = logits.argmax(-1).item()\n",
    "            predicted_label = torch.argsort(logits)\n",
    "            classifications = []\n",
    "            found_1 = False\n",
    "            found_2 = False\n",
    "            result = f\"Answers = {answers_list[i]}; Found: \"\n",
    "\n",
    "            # tries the 5 most probable inferences\n",
    "            for j in range(0,5):\n",
    "                labels = self.model.config.id2label[predicted_label[0][j].item()].split(\", \")\n",
    "                for label in labels:\n",
    "                    classifications.append(label)\n",
    "                if answers_list[i][0] in labels:\n",
    "                    found_1 = True \n",
    "                    result += f\"{answers_list[i][0]} as n.{j+1} with highest probability; \"\n",
    "                if answers_list[i][1] in labels:\n",
    "                    found_2 = True\n",
    "                    result += f\"{answers_list[i][1]} as n.{j+1} with highest probability; \"\n",
    "            if not found_1 and not found_2:\n",
    "                result += f\"NONE (classified as {classifications[:3]})\"\n",
    "            print(result)           \n",
    "        print(\"=================================================================================================================================\")\n",
    "\n",
    "class Detr_ResNet:\n",
    "    def __init__(self):\n",
    "        self.processor = DetrImageProcessor.from_pretrained(\"facebook/detr-resnet-50\")\n",
    "        self.model = DetrForObjectDetection.from_pretrained(\"facebook/detr-resnet-50\")\n",
    "\n",
    "\n",
    "    def test(self, image_list, answers_list):\n",
    "        print(\"============================================== DETR-ResNet50 Tests ==============================================================\")\n",
    "        for i, image in enumerate(image_list):\n",
    "            inputs = self.processor(image, return_tensors=\"pt\")\n",
    "            \n",
    "            outputs = self.model(**inputs)\n",
    "            \n",
    "            found_1 = False\n",
    "            found_2 = False\n",
    "            result = f\"Answers = {answers_list[i]}; Found: \"\n",
    "\n",
    "            # convert outputs (bounding boxes and class logits) to COCO API\n",
    "            # let's only keep detections with score > 0.9\n",
    "            target_sizes = torch.tensor([image.size[::-1]])\n",
    "            output = self.processor.post_process_object_detection(outputs, target_sizes=target_sizes, threshold=0.9)[0]\n",
    "            labels = []\n",
    "            scores = []\n",
    "            for score, label in zip(output[\"scores\"], output[\"labels\"]):\n",
    "                output_label = self.model.config.id2label[label.item()]\n",
    "                labels.append(output_label)\n",
    "                scores.append(round(score.item(), 3))\n",
    "                if answers_list[i][0] == output_label:\n",
    "                    found_1 = True \n",
    "                    result += f\"{answers_list[i][0]} (detected with confidence {round(score.item(), 3)}); \"\n",
    "                if answers_list[i][1] == output_label:\n",
    "                    found_2 = True\n",
    "                    result += f\"{answers_list[i][1]} (detected with confidence {round(score.item(), 3)}); \"\n",
    "\n",
    "            if not found_1 and not found_2:\n",
    "                result += f\"NONE ({labels} (detected with confidence {scores}))\"\n",
    "            print(result)           \n",
    "        print(\"=================================================================================================================================\")"
   ]
  },
  {
   "cell_type": "code",
   "execution_count": 69,
   "metadata": {},
   "outputs": [
    {
     "name": "stderr",
     "output_type": "stream",
     "text": [
      "Could not find image processor class in the image processor config or the model config. Loading based on pattern matching with the model's feature extractor configuration.\n"
     ]
    }
   ],
   "source": [
    "resnet = ResNet()\n",
    "detr_resnet = Detr_ResNet()"
   ]
  },
  {
   "cell_type": "code",
   "execution_count": 70,
   "metadata": {},
   "outputs": [
    {
     "name": "stdout",
     "output_type": "stream",
     "text": [
      "========================= ResNet50 Tests =================================================================\n",
      "Answers = ['elephant', 'orange']; Found: NONE (classified as ['Model T', 'electric locomotive', 'gondola'])\n",
      "Answers = ['owl', 'shark']; Found: NONE (classified as ['palace', \"yellow lady's slipper\", 'yellow lady-slipper'])\n",
      "Answers = ['banana', 'car']; Found: NONE (classified as ['marmoset', 'chiffonier', 'commode'])\n",
      "Answers = ['orange', 'zebra']; Found: NONE (classified as ['trolleybus', 'trolley coach', 'trackless trolley'])\n",
      "Answers = ['cat', 'orange']; Found: NONE (classified as ['lifeboat', 'drilling platform', 'offshore rig'])\n",
      "Answers = ['beer', 'camel']; Found: NONE (classified as ['greenhouse', 'nursery', 'glasshouse'])\n",
      "Answers = ['leopard', 'panda']; Found: NONE (classified as ['garden spider', 'Aranea diademata', 'spider web'])\n",
      "Answers = ['chair', 'shark']; Found: NONE (classified as ['otterhound', 'otter hound', 'clumber'])\n",
      "Answers = ['beer', 'chair']; Found: NONE (classified as ['curly-coated retriever', \"yellow lady's slipper\", 'yellow lady-slipper'])\n",
      "Answers = ['leopard', 'piano']; Found: NONE (classified as ['slot', 'one-armed bandit', 'lifeboat'])\n",
      "===========================================================================================================\n",
      "======================== DETR-ResNet50 Tests ==============================================================\n",
      "Answers = ['elephant', 'orange']; Found: NONE ([] (detected with confidence []))\n",
      "Answers = ['owl', 'shark']; Found: NONE (['bird'] (detected with confidence [0.991]))\n",
      "Answers = ['banana', 'car']; Found: banana (detected with confidence 0.987); \n",
      "Answers = ['orange', 'zebra']; Found: zebra (detected with confidence 0.909); \n",
      "Answers = ['cat', 'orange']; Found: cat (detected with confidence 0.994); \n",
      "Answers = ['beer', 'camel']; Found: NONE (['cup'] (detected with confidence [0.967]))\n",
      "Answers = ['leopard', 'panda']; Found: NONE ([] (detected with confidence []))\n",
      "Answers = ['chair', 'shark']; Found: NONE (['airplane'] (detected with confidence [0.915]))\n",
      "Answers = ['beer', 'chair']; Found: chair (detected with confidence 0.928); \n",
      "Answers = ['leopard', 'piano']; Found: NONE (['giraffe'] (detected with confidence [0.982]))\n",
      "===========================================================================================================\n"
     ]
    }
   ],
   "source": [
    "resnet.test(image_list, answers_list)\n",
    "detr_resnet.test(image_list, answers_list)"
   ]
  },
  {
   "cell_type": "code",
   "execution_count": null,
   "metadata": {},
   "outputs": [],
   "source": []
  },
  {
   "cell_type": "code",
   "execution_count": null,
   "metadata": {},
   "outputs": [],
   "source": []
  }
 ],
 "metadata": {
  "kernelspec": {
   "display_name": "Python 3 (ipykernel)",
   "language": "python",
   "name": "python3"
  },
  "language_info": {
   "codemirror_mode": {
    "name": "ipython",
    "version": 3
   },
   "file_extension": ".py",
   "mimetype": "text/x-python",
   "name": "python",
   "nbconvert_exporter": "python",
   "pygments_lexer": "ipython3",
   "version": "3.9.13"
  }
 },
 "nbformat": 4,
 "nbformat_minor": 4
}
